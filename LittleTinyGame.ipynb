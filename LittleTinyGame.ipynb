import pygame
import random
import time

#初始化 pygame
pygame.init()

#顏色的全域變數
red = (255, 0, 0)
orange = (255, 127, 0)
yellow = (255, 255, 0)
green = (0, 255, 0)
blue = (0, 0, 255)
violet = (127, 0, 255)
brown = (102, 51, 0)
black = (0, 0, 0)
white = (255, 255, 255)

#畫面的全域變數
screen_width = 600
screen_height = 400
game_screen = pygame.display.set_mode((screen_width, screen_height))
pygame.display.set_caption("Tiny tennis")
font = pygame.font.SysFont("monospace", 75)

#球的全域變數
ball_x = int(screen_width / 2)
ball_y = int(screen_height / 2)
ball_xv = 3
ball_yv = 3
ball_r = 20
ball_xvv=3
ball_yvv=3
CH = 1

#球拍 1
paddle1_x = 10
paddle1_y = 10
paddle1_w = 25
paddle1_h = 100

#球拍 2
paddle2_x = screen_width - 35
paddle2_y = 10
paddle2_w = 25
paddle2_h = 100

#初始化得分
player1_score = 0
player2_score = 0

# 遊戲循環
pygame.mouse.set_visible(0) # 讓游標不會出現在遊戲畫面中
do_main = True
while do_main:
    pressed = pygame.key.get_pressed()
    pygame.key.set_repeat
    for event in pygame.event.get():
        if event.type == pygame.QUIT:
            do_main = False

    if pressed[pygame.K_ESCAPE]:#控制球拍
        do_main = False
        
    if pressed[pygame.K_w]:
            paddle1_y -= 10
    elif pressed[pygame.K_s]:
            paddle1_y += 10
    if pressed[pygame.K_UP]:
            paddle2_y -= 10
    elif pressed[pygame.K_DOWN]:
            paddle2_y += 10
    #球的位置更新
    ball_x += ball_xv
    ball_y += ball_yv

    #球與畫面頂部/底部的抵觸 已優化(不會卡牆
    if ball_y - ball_r <= 0:
        ball_yv = ball_yvv
        CH = 1
    if ball_y + ball_r >= screen_height:
        ball_yv = -ball_yvv
        CH = -1
        
    #球拍與畫面邊緣的抵觸
    if paddle1_y < 0:
        paddle1_y = 0
    elif paddle1_y + paddle1_h > screen_height:
        paddle1_y = screen_height - paddle1_h
    
    if paddle2_y < 0:
        paddle2_y = 0
    elif paddle2_y + paddle2_h > screen_height:
        paddle2_y = screen_height - paddle2_h

    #球和球拍的碰撞 已優化(不會卡牆
    #左邊球拍
    if ball_x < paddle1_x + paddle1_w and ball_y >= paddle1_y and ball_y <= paddle1_y + paddle1_h:

        ball_xv = random.randrange(ball_xvv,ball_xvv*3) #X變速 1~3倍之間
        ball_yv = CH * (random.randrange(ball_yvv,ball_yvv*2)) #Y變速 1~2倍之間
        
        
                
    #右邊球拍
    if ball_x > paddle2_x and ball_y >= paddle2_y and ball_y <= paddle2_y + paddle2_h:    
        
        ball_xv = - random.randrange(ball_xvv,ball_xvv*3) #X變速 1~3倍之間
        ball_yv = CH * (random.randrange(ball_yvv,ball_yvv*2)) #Y變速 1~2倍之間
    
    # 玩家的分數計算
    if ball_x <= 0:
        player2_score += 1
        ball_x = int(screen_width / 2)
        ball_y = int(screen_height / 2)
        ball_xv *= -1
        ball_xvv= 3 + 3* int((player2_score+player1_score)/10) #總分每10分加速一次
        ball_yvv= 3 + 3* int((player2_score+player1_score)/10)
    elif ball_x >= screen_width:
        player1_score += 1
        ball_x = int(screen_width / 2)
        ball_y = int(screen_height / 2)
        ball_xv *= -1
        ball_xvv= 3 +  int((player2_score+player1_score)/10) #總分每10分加速一次
        ball_yvv= 3 +  int((player2_score+player1_score)/10)
    

    game_screen.fill(black)
    paddle_1 = pygame.draw.rect(game_screen, white, (paddle1_x, paddle1_y, paddle1_w, paddle1_h), 0)
    paddle_2 = pygame.draw.rect(game_screen, white, (paddle2_x, paddle2_y, paddle2_w, paddle2_h), 0)
    net = pygame.draw.line(game_screen, yellow, (300,5), (300,400))
    ball = pygame.draw.circle(game_screen, red, (ball_x, ball_y), ball_r)

    score_text = font.render(str(player1_score) + " " + str(player2_score), 1, white)
    game_screen.blit(score_text, (screen_width / 2 - score_text.get_width() / 2, 10))

    pygame.display.update()

    time.sleep(0.016666667)
    
pygame.quit()
# 遊戲結束
